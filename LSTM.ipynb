{
  "nbformat": 4,
  "nbformat_minor": 0,
  "metadata": {
    "colab": {
      "name": "LSTM.ipynb",
      "provenance": []
    },
    "kernelspec": {
      "name": "python3",
      "display_name": "Python 3"
    }
  },
  "cells": [
    {
      "cell_type": "code",
      "metadata": {
        "id": "aM5i1rl581zm"
      },
      "source": [
        "import pandas as pd\n",
        "import numpy as np\n",
        "import tensorflow as tf\n",
        "from tensorflow import keras\n",
        "from matplotlib import pyplot as plt"
      ],
      "execution_count": null,
      "outputs": []
    },
    {
      "cell_type": "code",
      "metadata": {
        "id": "2jL_8cLX85Wm"
      },
      "source": [
        "def generate_time_series(batch_size,n_steps):\n",
        "  freq1,freq2,offsets1,offsets2=np.random.rand(4,batch_size,1)\n",
        "  time=np.linspace(0,1,n_steps)\n",
        "  series = 0.5 * np.sin((time - offsets1) * (freq1 * 10 + 10))                    #   wave 1\n",
        "  series += 0.2 * np.sin((time - offsets2) * (freq2 * 20 + 20))                   # + wave 2\n",
        "  series += 0.1 * (np.random.rand(batch_size, n_steps) - 0.5) \n",
        "  #print(series.shape)  \n",
        "  #plt.plot(series,time)                  # + noise\n",
        "  return series[np.newaxis].astype(np.float32)\n"
      ],
      "execution_count": null,
      "outputs": []
    },
    {
      "cell_type": "code",
      "metadata": {
        "colab": {
          "base_uri": "https://localhost:8080/"
        },
        "id": "Zhx7yR1L9BiG",
        "outputId": "b3896d68-09b1-4e42-f51f-1b9963f7d7d9"
      },
      "source": [
        "n_steps=50\n",
        "series=generate_time_series(10000,n_steps+1)\n",
        "X_train, y_train = series[:7000, :n_steps], series[:7000, -1]\n",
        "X_valid, y_valid = series[7000:9000, :n_steps], series[7000:9000, -1]\n",
        "X_test, y_test = series[9000:, :n_steps], series[9000:, -1]\n",
        "series.shape\n",
        "X_train.shape"
      ],
      "execution_count": null,
      "outputs": [
        {
          "output_type": "execute_result",
          "data": {
            "text/plain": [
              "(1, 50, 51)"
            ]
          },
          "metadata": {
            "tags": []
          },
          "execution_count": 9
        }
      ]
    },
    {
      "cell_type": "code",
      "metadata": {
        "id": "5FVoWelLu1ol"
      },
      "source": [
        "model=keras.models.Sequential([keras.layers.LSTM(20 , return_sequences=True, input_shape=[None,1]),\n",
        "                               keras.layers.LSTM(20, return_sequences=True),\n",
        "                               keras.layers.TimeDistributed(keras.layers.Dense(10))\n",
        "                               ])\n",
        "model.compile(loss=\"mse\", optimizer=\"sgd\")"
      ],
      "execution_count": null,
      "outputs": []
    },
    {
      "cell_type": "code",
      "metadata": {
        "id": "T4HmEbqG9h3S"
      },
      "source": [
        "history=model.fit(X_train,y_train,epochs=20,validation_data=(X_valid,y_valid))"
      ],
      "execution_count": null,
      "outputs": []
    }
  ]
}